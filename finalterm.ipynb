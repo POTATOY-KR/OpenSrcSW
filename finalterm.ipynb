{
 "cells": [
  {
   "cell_type": "markdown",
   "id": "12c77bf0",
   "metadata": {},
   "source": [
    "finalterm"
   ]
  },
  {
   "cell_type": "code",
   "execution_count": 51,
   "id": "4a5aa036",
   "metadata": {},
   "outputs": [
    {
     "name": "stdout",
     "output_type": "stream",
     "text": [
      "백신이 가장 많이 접종된 날: 2021-06-27\n",
      "백신이 가장 적게 접종된 날: 2020-12-04\n"
     ]
    }
   ],
   "source": [
    "import csv\n",
    "import math\n",
    "f = open('country_vaccinations.csv','r',encoding='UTF-8')\n",
    "data = csv.reader(f)\n",
    "header = next(data)\n",
    "i = 0\n",
    "allday = {}\n",
    "vaccine = {}\n",
    "vdmin = -99\n",
    "vdmax = -99\n",
    "for row in data:\n",
    "    if row[2] in allday:\n",
    "        data = 0\n",
    "        str = row[7]\n",
    "        cnt = 0\n",
    "        for ii in str:\n",
    "            if ii == '.':\n",
    "                break\n",
    "            cnt+=1\n",
    "            pos = 1\n",
    "        while cnt>1:\n",
    "            pos = pos*10\n",
    "            cnt-=1\n",
    "        for ii in str:\n",
    "            if ii == '.':\n",
    "                break\n",
    "            data += pos * int(ii)\n",
    "            pos /= 10\n",
    "        data = int(data)\n",
    "        allday[row[2]] += data\n",
    "    else:\n",
    "        if row[7] == '':\n",
    "            allday[row[2]] = 0\n",
    "        else:\n",
    "            data = 0\n",
    "            str = row[7]\n",
    "            cnt = 0\n",
    "            for ii in str:\n",
    "                if ii == '.':\n",
    "                    break\n",
    "                cnt+=1\n",
    "            pos = 1\n",
    "            while cnt>1:\n",
    "                pos = pos*10\n",
    "                cnt-=1\n",
    "            for ii in str:\n",
    "                if ii == '.':\n",
    "                    break\n",
    "                data += pos * int(ii)\n",
    "                pos /= 10\n",
    "            data = int(data)\n",
    "            allday[row[2]] = data\n",
    "dates = ['','']\n",
    "for row in allday:\n",
    "    if vdmin == -99:\n",
    "        vdmin = allday[row]\n",
    "    if vdmax == -99:\n",
    "        vdmax = allday[row]\n",
    "    if vdmin>allday[row]:\n",
    "        vdmin = allday[row]\n",
    "        dates[0] = row\n",
    "    if vdmax < allday[row]:\n",
    "        vdmax = allday[row]\n",
    "        dates[1] = row\n",
    "print(\"백신이 가장 많이 접종된 날: \"+dates[1])\n",
    "print(\"백신이 가장 적게 접종된 날: \"+dates[0])"
   ]
  },
  {
   "cell_type": "code",
   "execution_count": null,
   "id": "4e5cfe42",
   "metadata": {},
   "outputs": [],
   "source": []
  }
 ],
 "metadata": {
  "kernelspec": {
   "display_name": "Python 3 (ipykernel)",
   "language": "python",
   "name": "python3"
  },
  "language_info": {
   "codemirror_mode": {
    "name": "ipython",
    "version": 3
   },
   "file_extension": ".py",
   "mimetype": "text/x-python",
   "name": "python",
   "nbconvert_exporter": "python",
   "pygments_lexer": "ipython3",
   "version": "3.10.4"
  }
 },
 "nbformat": 4,
 "nbformat_minor": 5
}
