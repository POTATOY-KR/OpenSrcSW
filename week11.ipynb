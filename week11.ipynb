{
 "cells": [
  {
   "cell_type": "markdown",
   "id": "90674249",
   "metadata": {},
   "source": [
    "11주차 실습문제 1번 단어 수 계산"
   ]
  },
  {
   "cell_type": "code",
   "execution_count": 23,
   "id": "f2ecb784",
   "metadata": {},
   "outputs": [
    {
     "name": "stdout",
     "output_type": "stream",
     "text": [
      "파이썬 2\n",
      "파일 2\n",
      "읽기 2\n",
      "예제입니다. 2\n",
      "다양한 1\n",
      "메소드를 1\n",
      "공부해 1\n",
      "보세요. 1\n",
      "실력이 1\n",
      "팍팍 1\n",
      "늘 1\n",
      "거예요~ 1\n",
      "단어 1\n",
      "수를 1\n",
      "카운트하는 1\n"
     ]
    }
   ],
   "source": [
    "rdmf=open(\"README.txt\",encoding='UTF-8')\n",
    "str=rdmf.readlines()\n",
    "alldict = []\n",
    "dictlist = {}\n",
    "for line in str:\n",
    "    line = line.strip()\n",
    "    dict=line.split(' ')\n",
    "    alldict = alldict + dict\n",
    "for w in alldict:\n",
    "    if w in dictlist:\n",
    "        dictlist[w] += 1\n",
    "    else:\n",
    "        dictlist[w] = 1\n",
    "for w in dictlist:\n",
    "    print(w, dictlist[w])\n",
    "rdmf.close()"
   ]
  },
  {
   "cell_type": "markdown",
   "id": "8d250e57",
   "metadata": {},
   "source": [
    "11주차 실습문제 2번 점 클래스 작성"
   ]
  },
  {
   "cell_type": "code",
   "execution_count": 3,
   "id": "b9c54fb4",
   "metadata": {},
   "outputs": [
    {
     "name": "stdout",
     "output_type": "stream",
     "text": [
      "input Point\n",
      "(1,2)\n",
      "(3,4)\n",
      "move Point1\n",
      "(2,6)\n",
      "(3,4)\n",
      "(2,6)\n",
      "(3,4)\n",
      "move Box\n",
      "(1,11)\n",
      "(2,9)\n",
      "(1,11)\n",
      "(2,9)\n"
     ]
    }
   ],
   "source": [
    "class Point:\n",
    "    def __init__(self,x,y):\n",
    "        self.x = x\n",
    "        self.y = y\n",
    "    def move(self,dx,dy):\n",
    "        self.x = self.x+dx\n",
    "        self.y = self.y+dy\n",
    "    def show(self):\n",
    "        print(\"({0:d},{1:d})\".format(self.x,self.y))\n",
    "class Box(Point):\n",
    "    def __init__(self,p1,p2):\n",
    "        self.p1 = p1\n",
    "        self.p2 = p2\n",
    "    def move(self,dx,dy):\n",
    "        self.p1.move(dx,dy)\n",
    "        self.p2.move(dx,dy)\n",
    "    def show(self):\n",
    "        self.p1.show()\n",
    "        self.p2.show()\n",
    "tstpt = Point(1,2)\n",
    "tstptt = Point(3,4)\n",
    "print(\"input Point\")\n",
    "tstpt.show()\n",
    "tstptt.show()\n",
    "tstbx = Box(tstpt,tstptt)\n",
    "tstpt.move(1,4)\n",
    "print(\"move Point1\")\n",
    "tstpt.show()\n",
    "tstptt.show()\n",
    "tstbx.show()\n",
    "tstbx.move(-1,5)\n",
    "print(\"move Box\")\n",
    "tstpt.show()\n",
    "tstptt.show()\n",
    "tstbx.show()"
   ]
  },
  {
   "cell_type": "code",
   "execution_count": null,
   "id": "d12b38a9",
   "metadata": {},
   "outputs": [],
   "source": []
  }
 ],
 "metadata": {
  "kernelspec": {
   "display_name": "Python 3 (ipykernel)",
   "language": "python",
   "name": "python3"
  },
  "language_info": {
   "codemirror_mode": {
    "name": "ipython",
    "version": 3
   },
   "file_extension": ".py",
   "mimetype": "text/x-python",
   "name": "python",
   "nbconvert_exporter": "python",
   "pygments_lexer": "ipython3",
   "version": "3.10.4"
  }
 },
 "nbformat": 4,
 "nbformat_minor": 5
}
