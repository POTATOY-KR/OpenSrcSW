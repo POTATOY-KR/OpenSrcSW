{
 "cells": [
  {
   "cell_type": "markdown",
   "id": "c025cc75",
   "metadata": {},
   "source": [
    "14주차 실습 1 가격이 비싼 가계 출력"
   ]
  },
  {
   "cell_type": "code",
   "execution_count": 55,
   "id": "5dbcf18a",
   "metadata": {},
   "outputs": [
    {
     "name": "stdout",
     "output_type": "stream",
     "text": [
      "        unit price  number\n",
      "store1         300     135\n",
      "store2         550     295\n",
      "store3        3950      80\n",
      "\n",
      "        unit price  number  total price\n",
      "store1         300     135        40500\n",
      "store2         550     295       162250\n",
      "store3        3950      80       316000\n"
     ]
    },
    {
     "data": {
      "text/html": [
       "<div>\n",
       "<style scoped>\n",
       "    .dataframe tbody tr th:only-of-type {\n",
       "        vertical-align: middle;\n",
       "    }\n",
       "\n",
       "    .dataframe tbody tr th {\n",
       "        vertical-align: top;\n",
       "    }\n",
       "\n",
       "    .dataframe thead th {\n",
       "        text-align: right;\n",
       "    }\n",
       "</style>\n",
       "<table border=\"1\" class=\"dataframe\">\n",
       "  <thead>\n",
       "    <tr style=\"text-align: right;\">\n",
       "      <th></th>\n",
       "      <th>unit price</th>\n",
       "      <th>number</th>\n",
       "      <th>total price</th>\n",
       "    </tr>\n",
       "  </thead>\n",
       "  <tbody>\n",
       "    <tr>\n",
       "      <th>store3</th>\n",
       "      <td>3950</td>\n",
       "      <td>80</td>\n",
       "      <td>316000</td>\n",
       "    </tr>\n",
       "  </tbody>\n",
       "</table>\n",
       "</div>"
      ],
      "text/plain": [
       "        unit price  number  total price\n",
       "store3        3950      80       316000"
      ]
     },
     "execution_count": 55,
     "metadata": {},
     "output_type": "execute_result"
    }
   ],
   "source": [
    "import pandas as pd\n",
    "import numpy as np\n",
    "prcdt = np.random.randint(1,100,size=3)\n",
    "prcdt = prcdt * 50\n",
    "numberdt = np.random.randint(2,60,size=3)\n",
    "numberdt = numberdt * 5\n",
    "fndt = np.stack([prcdt, numberdt],1)\n",
    "df = pd.DataFrame(fndt,index=[\"store1\",\"store2\",\"store3\"],columns=[\"unit price\",\"number\"])\n",
    "print(df)\n",
    "print(\"\")\n",
    "df[\"total price\"] = df[\"unit price\"]*df[\"number\"]\n",
    "print(df)\n",
    "finaldata = df.iloc[[df[\"total price\"].argmax()],:]\n",
    "finaldata"
   ]
  },
  {
   "cell_type": "code",
   "execution_count": null,
   "id": "3460f2fc",
   "metadata": {},
   "outputs": [],
   "source": []
  }
 ],
 "metadata": {
  "kernelspec": {
   "display_name": "Python 3 (ipykernel)",
   "language": "python",
   "name": "python3"
  },
  "language_info": {
   "codemirror_mode": {
    "name": "ipython",
    "version": 3
   },
   "file_extension": ".py",
   "mimetype": "text/x-python",
   "name": "python",
   "nbconvert_exporter": "python",
   "pygments_lexer": "ipython3",
   "version": "3.10.4"
  }
 },
 "nbformat": 4,
 "nbformat_minor": 5
}
