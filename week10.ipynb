{
 "cells": [
  {
   "cell_type": "markdown",
   "id": "0a31e4c1",
   "metadata": {},
   "source": [
    "10주차 실습문제 1번 문자열 정리"
   ]
  },
  {
   "cell_type": "code",
   "execution_count": 1,
   "id": "90934149",
   "metadata": {},
   "outputs": [
    {
     "name": "stdout",
     "output_type": "stream",
     "text": [
      "죽는 날까지 하늘을 우러러\n",
      "한 점 부끄럼이 없기를,\n",
      "잎새에 이는 바람에도\n",
      "너는 괴로워했다.\n",
      "별을 노래하는 마음으로\n",
      "모든 죽어가는 것을 사랑해야지\n",
      "그리고 너한테 주어진 길을\n",
      "걸어가야겠다.\n",
      "오늘 밤에도 별이 바람에 스치운다.\n"
     ]
    }
   ],
   "source": [
    "str=\"\"\"    죽는 날까지 하늘을 우러러\n",
    "한 점 부끄럼이 없기를,\n",
    "잎새에 이는 바람에도\n",
    "나는 괴로워했다.\n",
    "별을 노래하는 마음으로\n",
    "모든 죽어가는 것을 사랑해야지\n",
    "그리고 나한테 주어진 길을\n",
    "걸어가야겠다.\n",
    "오늘 밤에도 별이 바람에 스치운다.     \"\"\"\n",
    "str = str.strip()\n",
    "str = str.replace(\"나\",\"너\")\n",
    "print(str)"
   ]
  },
  {
   "cell_type": "markdown",
   "id": "0e9bd0bb",
   "metadata": {},
   "source": [
    "10주차 실습문제 2번 가장 큰 값 찾기"
   ]
  },
  {
   "cell_type": "code",
   "execution_count": 3,
   "id": "80da5b19",
   "metadata": {},
   "outputs": [
    {
     "name": "stdout",
     "output_type": "stream",
     "text": [
      "Numbers? 10 456 87 78\n",
      "MAX= 456\n"
     ]
    }
   ],
   "source": [
    "str=input(\"Numbers? \")\n",
    "strlist = str.split()\n",
    "max=int(strlist[0])\n",
    "for str in strlist[1:]:\n",
    "    num=int(str)\n",
    "    if(max<num):\n",
    "        max=num\n",
    "print(\"MAX=\",max)"
   ]
  },
  {
   "cell_type": "markdown",
   "id": "375b8933",
   "metadata": {},
   "source": [
    "10주차 실습문제 3번 문자열 암호화 복호화"
   ]
  },
  {
   "cell_type": "code",
   "execution_count": 1,
   "id": "97be66cd",
   "metadata": {},
   "outputs": [
    {
     "name": "stdout",
     "output_type": "stream",
     "text": [
      "\"abc def\" is encoded into \"efg!bcd\"\n",
      "\"efg!bcd\" is decoded into \"abc def\"\n"
     ]
    }
   ],
   "source": [
    "def conv_asc(str,num):\n",
    "    new_str=\"\"\n",
    "    for i in str:\n",
    "        code=ord(i)\n",
    "        new_str+=chr(code+num)\n",
    "    return new_str\n",
    "def enc(str,key):\n",
    "    list = str.split()\n",
    "    list = list[::-1]\n",
    "    new_str=\" \".join(list)\n",
    "    return conv_asc(new_str,key)\n",
    "def dec(str,key):\n",
    "    str = conv_asc(str,key*-1)\n",
    "    list = str.split()\n",
    "    list = list[::-1]\n",
    "    new_str=\" \".join(list)\n",
    "    return new_str\n",
    "str = \"abc def\"\n",
    "enc_str = enc(str,1)\n",
    "print(\"\\\"\"+str+\"\\\" is encoded into \\\"\"+enc_str+\"\\\"\")\n",
    "dec_str = dec(enc_str,1)\n",
    "print(\"\\\"\"+enc_str+\"\\\" is decoded into \\\"\"+dec_str+\"\\\"\")\n"
   ]
  },
  {
   "cell_type": "code",
   "execution_count": null,
   "id": "d3e1427d",
   "metadata": {},
   "outputs": [],
   "source": []
  }
 ],
 "metadata": {
  "kernelspec": {
   "display_name": "Python 3 (ipykernel)",
   "language": "python",
   "name": "python3"
  },
  "language_info": {
   "codemirror_mode": {
    "name": "ipython",
    "version": 3
   },
   "file_extension": ".py",
   "mimetype": "text/x-python",
   "name": "python",
   "nbconvert_exporter": "python",
   "pygments_lexer": "ipython3",
   "version": "3.10.4"
  }
 },
 "nbformat": 4,
 "nbformat_minor": 5
}
