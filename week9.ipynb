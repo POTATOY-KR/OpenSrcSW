{
 "cells": [
  {
   "cell_type": "markdown",
   "id": "be34a9a0",
   "metadata": {},
   "source": [
    "9주차 실습문제 1번\n",
    "456분은 몇 시간 몇 분인지 계산하시오"
   ]
  },
  {
   "cell_type": "code",
   "execution_count": 1,
   "id": "b76fddbf",
   "metadata": {},
   "outputs": [
    {
     "data": {
      "text/plain": [
       "(7, 36)"
      ]
     },
     "execution_count": 1,
     "metadata": {},
     "output_type": "execute_result"
    }
   ],
   "source": [
    "fulltime=456\n",
    "hour=fulltime/60\n",
    "minute=fulltime%60\n",
    "int(hour), minute"
   ]
  },
  {
   "cell_type": "markdown",
   "id": "2fecc25c",
   "metadata": {},
   "source": [
    "9주차 실습문제 2번 학점 데이터 출력"
   ]
  },
  {
   "cell_type": "code",
   "execution_count": 4,
   "id": "c87b3083",
   "metadata": {},
   "outputs": [
    {
     "name": "stdout",
     "output_type": "stream",
     "text": [
      "('김철수', 2.8)\n"
     ]
    }
   ],
   "source": [
    "dictionary={\"홍길동\":3.4, \"임꺽정\":4.0, \"김철수\":2.8, \"이영희\":3.9}\n",
    "answer=sorted(dictionary.items())\n",
    "for item in answer:\n",
    "    print(item)\n",
    "    break"
   ]
  },
  {
   "cell_type": "markdown",
   "id": "7650e035",
   "metadata": {},
   "source": [
    "실습 예시코드"
   ]
  },
  {
   "cell_type": "code",
   "execution_count": 7,
   "id": "3cd14cd0",
   "metadata": {},
   "outputs": [
    {
     "name": "stdout",
     "output_type": "stream",
     "text": [
      "김철수 2.8\n"
     ]
    }
   ],
   "source": [
    "dictionary={\"홍길동\":3.4, \"임꺽정\":4.0, \"김철수\":2.8, \"이영희\":3.9}\n",
    "data_list=list(dictionary)\n",
    "data_list.sort()\n",
    "key=data_list[0]\n",
    "value=dictionary[key]\n",
    "print(key, value)"
   ]
  },
  {
   "cell_type": "code",
   "execution_count": null,
   "id": "2a972074",
   "metadata": {},
   "outputs": [],
   "source": []
  }
 ],
 "metadata": {
  "kernelspec": {
   "display_name": "Python 3 (ipykernel)",
   "language": "python",
   "name": "python3"
  },
  "language_info": {
   "codemirror_mode": {
    "name": "ipython",
    "version": 3
   },
   "file_extension": ".py",
   "mimetype": "text/x-python",
   "name": "python",
   "nbconvert_exporter": "python",
   "pygments_lexer": "ipython3",
   "version": "3.10.4"
  }
 },
 "nbformat": 4,
 "nbformat_minor": 5
}
